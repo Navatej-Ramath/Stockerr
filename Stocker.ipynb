{
 "cells": [
  {
   "cell_type": "code",
   "execution_count": 1,
   "id": "c69c5960",
   "metadata": {},
   "outputs": [
    {
     "name": "stderr",
     "output_type": "stream",
     "text": [
      "D:\\annaconda-python\\Lib\\site-packages\\pandas\\core\\arrays\\masked.py:60: UserWarning: Pandas requires version '1.3.6' or newer of 'bottleneck' (version '1.3.5' currently installed).\n",
      "  from pandas.core import (\n",
      "[*********************100%%**********************]  1 of 1 completed\n"
     ]
    },
    {
     "data": {
      "text/html": [
       "<div>\n",
       "<style scoped>\n",
       "    .dataframe tbody tr th:only-of-type {\n",
       "        vertical-align: middle;\n",
       "    }\n",
       "\n",
       "    .dataframe tbody tr th {\n",
       "        vertical-align: top;\n",
       "    }\n",
       "\n",
       "    .dataframe thead th {\n",
       "        text-align: right;\n",
       "    }\n",
       "</style>\n",
       "<table border=\"1\" class=\"dataframe\">\n",
       "  <thead>\n",
       "    <tr style=\"text-align: right;\">\n",
       "      <th></th>\n",
       "      <th>Open</th>\n",
       "      <th>High</th>\n",
       "      <th>Low</th>\n",
       "      <th>Close</th>\n",
       "      <th>Adj Close</th>\n",
       "      <th>Volume</th>\n",
       "    </tr>\n",
       "    <tr>\n",
       "      <th>Date</th>\n",
       "      <th></th>\n",
       "      <th></th>\n",
       "      <th></th>\n",
       "      <th></th>\n",
       "      <th></th>\n",
       "      <th></th>\n",
       "    </tr>\n",
       "  </thead>\n",
       "  <tbody>\n",
       "    <tr>\n",
       "      <th>2012-01-03</th>\n",
       "      <td>14.621429</td>\n",
       "      <td>14.732143</td>\n",
       "      <td>14.607143</td>\n",
       "      <td>14.686786</td>\n",
       "      <td>12.433825</td>\n",
       "      <td>302220800</td>\n",
       "    </tr>\n",
       "    <tr>\n",
       "      <th>2012-01-04</th>\n",
       "      <td>14.642857</td>\n",
       "      <td>14.810000</td>\n",
       "      <td>14.617143</td>\n",
       "      <td>14.765714</td>\n",
       "      <td>12.500643</td>\n",
       "      <td>260022000</td>\n",
       "    </tr>\n",
       "    <tr>\n",
       "      <th>2012-01-05</th>\n",
       "      <td>14.819643</td>\n",
       "      <td>14.948214</td>\n",
       "      <td>14.738214</td>\n",
       "      <td>14.929643</td>\n",
       "      <td>12.639425</td>\n",
       "      <td>271269600</td>\n",
       "    </tr>\n",
       "    <tr>\n",
       "      <th>2012-01-06</th>\n",
       "      <td>14.991786</td>\n",
       "      <td>15.098214</td>\n",
       "      <td>14.972143</td>\n",
       "      <td>15.085714</td>\n",
       "      <td>12.771559</td>\n",
       "      <td>318292800</td>\n",
       "    </tr>\n",
       "    <tr>\n",
       "      <th>2012-01-09</th>\n",
       "      <td>15.196429</td>\n",
       "      <td>15.276786</td>\n",
       "      <td>15.048214</td>\n",
       "      <td>15.061786</td>\n",
       "      <td>12.751296</td>\n",
       "      <td>394024400</td>\n",
       "    </tr>\n",
       "  </tbody>\n",
       "</table>\n",
       "</div>"
      ],
      "text/plain": [
       "                 Open       High        Low      Close  Adj Close     Volume\n",
       "Date                                                                        \n",
       "2012-01-03  14.621429  14.732143  14.607143  14.686786  12.433825  302220800\n",
       "2012-01-04  14.642857  14.810000  14.617143  14.765714  12.500643  260022000\n",
       "2012-01-05  14.819643  14.948214  14.738214  14.929643  12.639425  271269600\n",
       "2012-01-06  14.991786  15.098214  14.972143  15.085714  12.771559  318292800\n",
       "2012-01-09  15.196429  15.276786  15.048214  15.061786  12.751296  394024400"
      ]
     },
     "execution_count": 1,
     "metadata": {},
     "output_type": "execute_result"
    }
   ],
   "source": [
    "import numpy as np\n",
    "import pandas as pd\n",
    "import matplotlib.pyplot as plt\n",
    "import pandas_datareader as data\n",
    "import yfinance as yf\n",
    "df = yf.download('AAPL', start = '2012-01-01', end='2023-01-01')\n",
    "df.head()"
   ]
  },
  {
   "cell_type": "code",
   "execution_count": 2,
   "id": "483c6ac5",
   "metadata": {},
   "outputs": [
    {
     "data": {
      "text/html": [
       "<div>\n",
       "<style scoped>\n",
       "    .dataframe tbody tr th:only-of-type {\n",
       "        vertical-align: middle;\n",
       "    }\n",
       "\n",
       "    .dataframe tbody tr th {\n",
       "        vertical-align: top;\n",
       "    }\n",
       "\n",
       "    .dataframe thead th {\n",
       "        text-align: right;\n",
       "    }\n",
       "</style>\n",
       "<table border=\"1\" class=\"dataframe\">\n",
       "  <thead>\n",
       "    <tr style=\"text-align: right;\">\n",
       "      <th></th>\n",
       "      <th>Open</th>\n",
       "      <th>High</th>\n",
       "      <th>Low</th>\n",
       "      <th>Close</th>\n",
       "      <th>Adj Close</th>\n",
       "      <th>Volume</th>\n",
       "    </tr>\n",
       "    <tr>\n",
       "      <th>Date</th>\n",
       "      <th></th>\n",
       "      <th></th>\n",
       "      <th></th>\n",
       "      <th></th>\n",
       "      <th></th>\n",
       "      <th></th>\n",
       "    </tr>\n",
       "  </thead>\n",
       "  <tbody>\n",
       "    <tr>\n",
       "      <th>2022-12-23</th>\n",
       "      <td>130.919998</td>\n",
       "      <td>132.419998</td>\n",
       "      <td>129.639999</td>\n",
       "      <td>131.860001</td>\n",
       "      <td>130.959961</td>\n",
       "      <td>63814900</td>\n",
       "    </tr>\n",
       "    <tr>\n",
       "      <th>2022-12-27</th>\n",
       "      <td>131.380005</td>\n",
       "      <td>131.410004</td>\n",
       "      <td>128.720001</td>\n",
       "      <td>130.029999</td>\n",
       "      <td>129.142456</td>\n",
       "      <td>69007800</td>\n",
       "    </tr>\n",
       "    <tr>\n",
       "      <th>2022-12-28</th>\n",
       "      <td>129.669998</td>\n",
       "      <td>131.029999</td>\n",
       "      <td>125.870003</td>\n",
       "      <td>126.040001</td>\n",
       "      <td>125.179680</td>\n",
       "      <td>85438400</td>\n",
       "    </tr>\n",
       "    <tr>\n",
       "      <th>2022-12-29</th>\n",
       "      <td>127.989998</td>\n",
       "      <td>130.479996</td>\n",
       "      <td>127.730003</td>\n",
       "      <td>129.610001</td>\n",
       "      <td>128.725311</td>\n",
       "      <td>75703700</td>\n",
       "    </tr>\n",
       "    <tr>\n",
       "      <th>2022-12-30</th>\n",
       "      <td>128.410004</td>\n",
       "      <td>129.949997</td>\n",
       "      <td>127.430000</td>\n",
       "      <td>129.929993</td>\n",
       "      <td>129.043121</td>\n",
       "      <td>77034200</td>\n",
       "    </tr>\n",
       "  </tbody>\n",
       "</table>\n",
       "</div>"
      ],
      "text/plain": [
       "                  Open        High         Low       Close   Adj Close  \\\n",
       "Date                                                                     \n",
       "2022-12-23  130.919998  132.419998  129.639999  131.860001  130.959961   \n",
       "2022-12-27  131.380005  131.410004  128.720001  130.029999  129.142456   \n",
       "2022-12-28  129.669998  131.029999  125.870003  126.040001  125.179680   \n",
       "2022-12-29  127.989998  130.479996  127.730003  129.610001  128.725311   \n",
       "2022-12-30  128.410004  129.949997  127.430000  129.929993  129.043121   \n",
       "\n",
       "              Volume  \n",
       "Date                  \n",
       "2022-12-23  63814900  \n",
       "2022-12-27  69007800  \n",
       "2022-12-28  85438400  \n",
       "2022-12-29  75703700  \n",
       "2022-12-30  77034200  "
      ]
     },
     "execution_count": 2,
     "metadata": {},
     "output_type": "execute_result"
    }
   ],
   "source": [
    "df.tail()"
   ]
  },
  {
   "cell_type": "code",
   "execution_count": 3,
   "id": "27af936f",
   "metadata": {},
   "outputs": [],
   "source": [
    "df = df.reset_index()"
   ]
  },
  {
   "cell_type": "code",
   "execution_count": 4,
   "id": "02c6d2f0",
   "metadata": {},
   "outputs": [
    {
     "data": {
      "text/html": [
       "<div>\n",
       "<style scoped>\n",
       "    .dataframe tbody tr th:only-of-type {\n",
       "        vertical-align: middle;\n",
       "    }\n",
       "\n",
       "    .dataframe tbody tr th {\n",
       "        vertical-align: top;\n",
       "    }\n",
       "\n",
       "    .dataframe thead th {\n",
       "        text-align: right;\n",
       "    }\n",
       "</style>\n",
       "<table border=\"1\" class=\"dataframe\">\n",
       "  <thead>\n",
       "    <tr style=\"text-align: right;\">\n",
       "      <th></th>\n",
       "      <th>Date</th>\n",
       "      <th>Open</th>\n",
       "      <th>High</th>\n",
       "      <th>Low</th>\n",
       "      <th>Close</th>\n",
       "      <th>Adj Close</th>\n",
       "      <th>Volume</th>\n",
       "    </tr>\n",
       "  </thead>\n",
       "  <tbody>\n",
       "    <tr>\n",
       "      <th>0</th>\n",
       "      <td>2012-01-03</td>\n",
       "      <td>14.621429</td>\n",
       "      <td>14.732143</td>\n",
       "      <td>14.607143</td>\n",
       "      <td>14.686786</td>\n",
       "      <td>12.433825</td>\n",
       "      <td>302220800</td>\n",
       "    </tr>\n",
       "    <tr>\n",
       "      <th>1</th>\n",
       "      <td>2012-01-04</td>\n",
       "      <td>14.642857</td>\n",
       "      <td>14.810000</td>\n",
       "      <td>14.617143</td>\n",
       "      <td>14.765714</td>\n",
       "      <td>12.500643</td>\n",
       "      <td>260022000</td>\n",
       "    </tr>\n",
       "    <tr>\n",
       "      <th>2</th>\n",
       "      <td>2012-01-05</td>\n",
       "      <td>14.819643</td>\n",
       "      <td>14.948214</td>\n",
       "      <td>14.738214</td>\n",
       "      <td>14.929643</td>\n",
       "      <td>12.639425</td>\n",
       "      <td>271269600</td>\n",
       "    </tr>\n",
       "    <tr>\n",
       "      <th>3</th>\n",
       "      <td>2012-01-06</td>\n",
       "      <td>14.991786</td>\n",
       "      <td>15.098214</td>\n",
       "      <td>14.972143</td>\n",
       "      <td>15.085714</td>\n",
       "      <td>12.771559</td>\n",
       "      <td>318292800</td>\n",
       "    </tr>\n",
       "    <tr>\n",
       "      <th>4</th>\n",
       "      <td>2012-01-09</td>\n",
       "      <td>15.196429</td>\n",
       "      <td>15.276786</td>\n",
       "      <td>15.048214</td>\n",
       "      <td>15.061786</td>\n",
       "      <td>12.751296</td>\n",
       "      <td>394024400</td>\n",
       "    </tr>\n",
       "  </tbody>\n",
       "</table>\n",
       "</div>"
      ],
      "text/plain": [
       "        Date       Open       High        Low      Close  Adj Close     Volume\n",
       "0 2012-01-03  14.621429  14.732143  14.607143  14.686786  12.433825  302220800\n",
       "1 2012-01-04  14.642857  14.810000  14.617143  14.765714  12.500643  260022000\n",
       "2 2012-01-05  14.819643  14.948214  14.738214  14.929643  12.639425  271269600\n",
       "3 2012-01-06  14.991786  15.098214  14.972143  15.085714  12.771559  318292800\n",
       "4 2012-01-09  15.196429  15.276786  15.048214  15.061786  12.751296  394024400"
      ]
     },
     "execution_count": 4,
     "metadata": {},
     "output_type": "execute_result"
    }
   ],
   "source": [
    "df.head()"
   ]
  },
  {
   "cell_type": "code",
   "execution_count": 5,
   "id": "08e93a0c",
   "metadata": {},
   "outputs": [],
   "source": [
    "columns_to_drop = ['Date', 'Adj Close']\n",
    "df = df.drop(columns_to_drop, axis=1)"
   ]
  },
  {
   "cell_type": "code",
   "execution_count": 6,
   "id": "03a82488",
   "metadata": {},
   "outputs": [
    {
     "data": {
      "text/html": [
       "<div>\n",
       "<style scoped>\n",
       "    .dataframe tbody tr th:only-of-type {\n",
       "        vertical-align: middle;\n",
       "    }\n",
       "\n",
       "    .dataframe tbody tr th {\n",
       "        vertical-align: top;\n",
       "    }\n",
       "\n",
       "    .dataframe thead th {\n",
       "        text-align: right;\n",
       "    }\n",
       "</style>\n",
       "<table border=\"1\" class=\"dataframe\">\n",
       "  <thead>\n",
       "    <tr style=\"text-align: right;\">\n",
       "      <th></th>\n",
       "      <th>Open</th>\n",
       "      <th>High</th>\n",
       "      <th>Low</th>\n",
       "      <th>Close</th>\n",
       "      <th>Volume</th>\n",
       "    </tr>\n",
       "  </thead>\n",
       "  <tbody>\n",
       "    <tr>\n",
       "      <th>0</th>\n",
       "      <td>14.621429</td>\n",
       "      <td>14.732143</td>\n",
       "      <td>14.607143</td>\n",
       "      <td>14.686786</td>\n",
       "      <td>302220800</td>\n",
       "    </tr>\n",
       "    <tr>\n",
       "      <th>1</th>\n",
       "      <td>14.642857</td>\n",
       "      <td>14.810000</td>\n",
       "      <td>14.617143</td>\n",
       "      <td>14.765714</td>\n",
       "      <td>260022000</td>\n",
       "    </tr>\n",
       "    <tr>\n",
       "      <th>2</th>\n",
       "      <td>14.819643</td>\n",
       "      <td>14.948214</td>\n",
       "      <td>14.738214</td>\n",
       "      <td>14.929643</td>\n",
       "      <td>271269600</td>\n",
       "    </tr>\n",
       "    <tr>\n",
       "      <th>3</th>\n",
       "      <td>14.991786</td>\n",
       "      <td>15.098214</td>\n",
       "      <td>14.972143</td>\n",
       "      <td>15.085714</td>\n",
       "      <td>318292800</td>\n",
       "    </tr>\n",
       "    <tr>\n",
       "      <th>4</th>\n",
       "      <td>15.196429</td>\n",
       "      <td>15.276786</td>\n",
       "      <td>15.048214</td>\n",
       "      <td>15.061786</td>\n",
       "      <td>394024400</td>\n",
       "    </tr>\n",
       "  </tbody>\n",
       "</table>\n",
       "</div>"
      ],
      "text/plain": [
       "        Open       High        Low      Close     Volume\n",
       "0  14.621429  14.732143  14.607143  14.686786  302220800\n",
       "1  14.642857  14.810000  14.617143  14.765714  260022000\n",
       "2  14.819643  14.948214  14.738214  14.929643  271269600\n",
       "3  14.991786  15.098214  14.972143  15.085714  318292800\n",
       "4  15.196429  15.276786  15.048214  15.061786  394024400"
      ]
     },
     "execution_count": 6,
     "metadata": {},
     "output_type": "execute_result"
    }
   ],
   "source": [
    "df.head()"
   ]
  },
  {
   "cell_type": "code",
   "execution_count": 7,
   "id": "231b13e3",
   "metadata": {},
   "outputs": [
    {
     "data": {
      "text/plain": [
       "[<matplotlib.lines.Line2D at 0x25cc02644d0>]"
      ]
     },
     "execution_count": 7,
     "metadata": {},
     "output_type": "execute_result"
    },
    {
     "data": {
      "image/png": "[encoded data removed]",
      "text/plain": [
       "<Figure size 640x480 with 1 Axes>"
      ]
     },
     "metadata": {},
     "output_type": "display_data"
    }
   ],
   "source": [
    "plt.plot(df.Close)"
   ]
  },
  {
   "cell_type": "code",
   "execution_count": 8,
   "id": "94b65642",
   "metadata": {},
   "outputs": [],
   "source": [
    "ma100=df['Close'].rolling(100).mean()"
   ]
  },
  {
   "cell_type": "code",
   "execution_count": 9,
   "id": "537e6ccf",
   "metadata": {},
   "outputs": [],
   "source": [
    "ma200=df['Close'].rolling(200).mean()"
   ]
  },
  {
   "cell_type": "code",
   "execution_count": 10,
   "id": "e90d3df4",
   "metadata": {},
   "outputs": [
    {
     "data": {
      "text/plain": [
       "[<matplotlib.lines.Line2D at 0x25cc1325a50>]"
      ]
     },
     "execution_count": 10,
     "metadata": {},
     "output_type": "execute_result"
    },
    {
     "data": {
      "image/png": "[encoded data removed]",
      "text/plain": [
       "<Figure size 1200x600 with 1 Axes>"
      ]
     },
     "metadata": {},
     "output_type": "display_data"
    }
   ],
   "source": [
    "plt.figure(figsize=(12,6))\n",
    "plt.plot(df.Close)\n",
    "plt.plot(ma100,'g')\n",
    "plt.plot(ma200,'r')"
   ]
  },
  {
   "cell_type": "code",
   "execution_count": 11,
   "id": "a2d15e0a",
   "metadata": {},
   "outputs": [
    {
     "data": {
      "text/plain": [
       "0        14.686786\n",
       "1        14.765714\n",
       "2        14.929643\n",
       "3        15.085714\n",
       "4        15.061786\n",
       "           ...    \n",
       "2763    131.860001\n",
       "2764    130.029999\n",
       "2765    126.040001\n",
       "2766    129.610001\n",
       "2767    129.929993\n",
       "Name: Close, Length: 2768, dtype: float64"
      ]
     },
     "execution_count": 11,
     "metadata": {},
     "output_type": "execute_result"
    }
   ],
   "source": [
    "df['Close']"
   ]
  },
  {
   "cell_type": "markdown",
   "id": "18e0b2dc",
   "metadata": {},
   "source": [
    "## Splitting data into training and testing"
   ]
  },
  {
   "cell_type": "code",
   "execution_count": 12,
   "id": "8e492283",
   "metadata": {},
   "outputs": [],
   "source": [
    "from sklearn.model_selection import train_test_split"
   ]
  },
  {
   "cell_type": "code",
   "execution_count": 13,
   "id": "a48aee26",
   "metadata": {},
   "outputs": [],
   "source": [
    "split_index = int(len(df) * 0.7)"
   ]
  },
  {
   "cell_type": "code",
   "execution_count": 14,
   "id": "997294a9",
   "metadata": {},
   "outputs": [
    {
     "data": {
      "text/plain": [
       "0       14.686786\n",
       "1       14.765714\n",
       "2       14.929643\n",
       "3       15.085714\n",
       "4       15.061786\n",
       "          ...    \n",
       "1932    53.542500\n",
       "1933    54.174999\n",
       "1934    55.897499\n",
       "1935    55.772499\n",
       "1936    54.687500\n",
       "Name: Close, Length: 1937, dtype: float64"
      ]
     },
     "execution_count": 14,
     "metadata": {},
     "output_type": "execute_result"
    }
   ],
   "source": [
    "train_data = df.Close[:split_index]\n",
    "test_data = df.Close[split_index:]\n",
    "train_data"
   ]
  },
  {
   "cell_type": "code",
   "execution_count": 15,
   "id": "4f71599a",
   "metadata": {
    "scrolled": true
   },
   "outputs": [
    {
     "data": {
      "text/plain": [
       "(1937, 1)"
      ]
     },
     "execution_count": 15,
     "metadata": {},
     "output_type": "execute_result"
    }
   ],
   "source": [
    "from sklearn.preprocessing import MinMaxScaler\n",
    "\n",
    "# Assuming 'train_data' is a pandas Series containing the column you want to scale\n",
    "\n",
    "# Convert the Series to a NumPy array and reshape it to a 2D array\n",
    "train_data_array = train_data.values.reshape(-1, 1)\n",
    "\n",
    "# Initialize the MinMaxScaler\n",
    "scaler = MinMaxScaler(feature_range=(0, 1))\n",
    "\n",
    "# Fit the scaler to the data and transform the data\n",
    "scaled_train_data = scaler.fit_transform(train_data_array)\n",
    "\n",
    "# Inverse transform to get the original data (if needed)\n",
    "# original_data = scaler.inverse_transform(scaled_data)\n",
    "\n",
    "# Print the scaled data\n",
    "scaled_train_data.shape # Flatten the 2D array to 1D for printing\n",
    "\n"
   ]
  },
  {
   "cell_type": "code",
   "execution_count": 16,
   "id": "0a99618e",
   "metadata": {},
   "outputs": [],
   "source": [
    "x_train = []\n",
    "y_train = []\n",
    "i=0\n",
    "for i in range (i,scaled_train_data.shape[0]-100):\n",
    "    x_train.append(scaled_train_data[i:i+100])\n",
    "    y_train.append(scaled_train_data[i+100,0])\n",
    "x_train,y_train =np.array(x_train),np.array(y_train)"
   ]
  },
  {
   "cell_type": "code",
   "execution_count": 17,
   "id": "f7e3abd4",
   "metadata": {},
   "outputs": [
    {
     "data": {
      "text/plain": [
       "(1837,)"
      ]
     },
     "execution_count": 17,
     "metadata": {},
     "output_type": "execute_result"
    }
   ],
   "source": [
    "y_train.shape"
   ]
  },
  {
   "cell_type": "markdown",
   "id": "5297456d",
   "metadata": {},
   "source": [
    "## ML MODEL"
   ]
  },
  {
   "cell_type": "code",
   "execution_count": 18,
   "id": "fbbb51ab",
   "metadata": {},
   "outputs": [
    {
     "name": "stdout",
     "output_type": "stream",
     "text": [
      "WARNING:tensorflow:From D:\\annaconda-python\\Lib\\site-packages\\keras\\src\\losses.py:2976: The name tf.losses.sparse_softmax_cross_entropy is deprecated. Please use tf.compat.v1.losses.sparse_softmax_cross_entropy instead.\n",
      "\n"
     ]
    }
   ],
   "source": [
    "from keras.layers import Dense,Dropout,LSTM"
   ]
  },
  {
   "cell_type": "code",
   "execution_count": 19,
   "id": "97ace35d",
   "metadata": {},
   "outputs": [],
   "source": [
    "from keras.models import Sequential"
   ]
  },
  {
   "cell_type": "code",
   "execution_count": 20,
   "id": "150ae8bd",
   "metadata": {},
   "outputs": [
    {
     "name": "stdout",
     "output_type": "stream",
     "text": [
      "WARNING:tensorflow:From D:\\annaconda-python\\Lib\\site-packages\\keras\\src\\backend.py:873: The name tf.get_default_graph is deprecated. Please use tf.compat.v1.get_default_graph instead.\n",
      "\n"
     ]
    }
   ],
   "source": [
    "model=Sequential()\n",
    "model.add(LSTM(units=50,activation='relu',return_sequences=True,input_shape=(x_train.shape[1],1)))\n",
    "model.add(Dropout(0.2))\n",
    "\n",
    "\n",
    "model.add(LSTM(units=60,activation='relu',return_sequences=True))\n",
    "model.add(Dropout(0.3))\n",
    "\n",
    "\n",
    "model.add(LSTM(units=80,activation='relu',return_sequences=True))\n",
    "model.add(Dropout(0.4))\n",
    "\n",
    "\n",
    "model.add(LSTM(units=120,activation='relu'))\n",
    "model.add(Dropout(0.5))\n",
    "\n",
    "model.add(Dense(units=1))"
   ]
  },
  {
   "cell_type": "code",
   "execution_count": 21,
   "id": "5a671a32",
   "metadata": {},
   "outputs": [
    {
     "name": "stdout",
     "output_type": "stream",
     "text": [
      "Model: \"sequential\"\n",
      "_________________________________________________________________\n",
      " Layer (type)                Output Shape              Param #   \n",
      "=================================================================\n",
      " lstm (LSTM)                 (None, 100, 50)           10400     \n",
      "                                                                 \n",
      " dropout (Dropout)           (None, 100, 50)           0         \n",
      "                                                                 \n",
      " lstm_1 (LSTM)               (None, 100, 60)           26640     \n",
      "                                                                 \n",
      " dropout_1 (Dropout)         (None, 100, 60)           0         \n",
      "                                                                 \n",
      " lstm_2 (LSTM)               (None, 100, 80)           45120     \n",
      "                                                                 \n",
      " dropout_2 (Dropout)         (None, 100, 80)           0         \n",
      "                                                                 \n",
      " lstm_3 (LSTM)               (None, 120)               96480     \n",
      "                                                                 \n",
      " dropout_3 (Dropout)         (None, 120)               0         \n",
      "                                                                 \n",
      " dense (Dense)               (None, 1)                 121       \n",
      "                                                                 \n",
      "=================================================================\n",
      "Total params: 178761 (698.29 KB)\n",
      "Trainable params: 178761 (698.29 KB)\n",
      "Non-trainable params: 0 (0.00 Byte)\n",
      "_________________________________________________________________\n"
     ]
    }
   ],
   "source": [
    "model.summary()"
   ]
  },
  {
   "cell_type": "code",
   "execution_count": 22,
   "id": "6208d869",
   "metadata": {},
   "outputs": [
    {
     "name": "stdout",
     "output_type": "stream",
     "text": [
      "WARNING:tensorflow:From D:\\annaconda-python\\Lib\\site-packages\\keras\\src\\optimizers\\__init__.py:309: The name tf.train.Optimizer is deprecated. Please use tf.compat.v1.train.Optimizer instead.\n",
      "\n"
     ]
    }
   ],
   "source": [
    "model.compile(optimizer='adam', loss='mean_squared_error')"
   ]
  },
  {
   "cell_type": "code",
   "execution_count": 23,
   "id": "d17d8675",
   "metadata": {
    "scrolled": false
   },
   "outputs": [
    {
     "name": "stdout",
     "output_type": "stream",
     "text": [
      "Epoch 1/50\n",
      "WARNING:tensorflow:From D:\\annaconda-python\\Lib\\site-packages\\keras\\src\\utils\\tf_utils.py:492: The name tf.ragged.RaggedTensorValue is deprecated. Please use tf.compat.v1.ragged.RaggedTensorValue instead.\n",
      "\n",
      "58/58 [==============================] - 16s 180ms/step - loss: 0.0502\n",
      "Epoch 2/50\n",
      "58/58 [==============================] - 10s 174ms/step - loss: 0.0098\n",
      "Epoch 3/50\n",
      "58/58 [==============================] - 10s 178ms/step - loss: 0.0073\n",
      "Epoch 4/50\n",
      "58/58 [==============================] - 10s 174ms/step - loss: 0.0069\n",
      "Epoch 5/50\n",
      "58/58 [==============================] - 10s 177ms/step - loss: 0.0061\n",
      "Epoch 6/50\n",
      "58/58 [==============================] - 17s 289ms/step - loss: 0.0062\n",
      "Epoch 7/50\n",
      "58/58 [==============================] - 16s 271ms/step - loss: 0.0061\n",
      "Epoch 8/50\n",
      "58/58 [==============================] - 11s 190ms/step - loss: 0.0071\n",
      "Epoch 9/50\n",
      "58/58 [==============================] - 9s 157ms/step - loss: 0.0050\n",
      "Epoch 10/50\n",
      "58/58 [==============================] - 11s 192ms/step - loss: 0.0049\n",
      "Epoch 11/50\n",
      "58/58 [==============================] - 11s 170ms/step - loss: 0.0049\n",
      "Epoch 12/50\n",
      "58/58 [==============================] - 10s 164ms/step - loss: 0.0044\n",
      "Epoch 13/50\n",
      "58/58 [==============================] - 10s 174ms/step - loss: 0.0043\n",
      "Epoch 14/50\n",
      "58/58 [==============================] - 9s 160ms/step - loss: 0.0046\n",
      "Epoch 15/50\n",
      "58/58 [==============================] - 10s 172ms/step - loss: 0.0040\n",
      "Epoch 16/50\n",
      "58/58 [==============================] - 10s 170ms/step - loss: 0.0039\n",
      "Epoch 17/50\n",
      "58/58 [==============================] - 9s 161ms/step - loss: 0.0039\n",
      "Epoch 18/50\n",
      "58/58 [==============================] - 10s 172ms/step - loss: 0.0041\n",
      "Epoch 19/50\n",
      "58/58 [==============================] - 9s 161ms/step - loss: 0.0040\n",
      "Epoch 20/50\n",
      "58/58 [==============================] - 10s 173ms/step - loss: 0.0036\n",
      "Epoch 21/50\n",
      "58/58 [==============================] - 10s 173ms/step - loss: 0.0036\n",
      "Epoch 22/50\n",
      "58/58 [==============================] - 9s 160ms/step - loss: 0.0035\n",
      "Epoch 23/50\n",
      "58/58 [==============================] - 10s 172ms/step - loss: 0.0033\n",
      "Epoch 24/50\n",
      "58/58 [==============================] - 10s 165ms/step - loss: 0.0036\n",
      "Epoch 25/50\n",
      "58/58 [==============================] - 10s 168ms/step - loss: 0.0035\n",
      "Epoch 26/50\n",
      "58/58 [==============================] - 10s 174ms/step - loss: 0.0035\n",
      "Epoch 27/50\n",
      "58/58 [==============================] - 9s 161ms/step - loss: 0.0037\n",
      "Epoch 28/50\n",
      "58/58 [==============================] - 10s 173ms/step - loss: 0.0028\n",
      "Epoch 29/50\n",
      "58/58 [==============================] - 10s 165ms/step - loss: 0.0031\n",
      "Epoch 30/50\n",
      "58/58 [==============================] - 10s 168ms/step - loss: 0.0031\n",
      "Epoch 31/50\n",
      "58/58 [==============================] - 10s 171ms/step - loss: 0.0029\n",
      "Epoch 32/50\n",
      "58/58 [==============================] - 10s 179ms/step - loss: 0.0029\n",
      "Epoch 33/50\n",
      "58/58 [==============================] - 11s 183ms/step - loss: 0.0030\n",
      "Epoch 34/50\n",
      "58/58 [==============================] - 10s 174ms/step - loss: 0.0031\n",
      "Epoch 35/50\n",
      "58/58 [==============================] - 10s 171ms/step - loss: 0.0030\n",
      "Epoch 36/50\n",
      "58/58 [==============================] - 10s 179ms/step - loss: 0.0027\n",
      "Epoch 37/50\n",
      "58/58 [==============================] - 11s 190ms/step - loss: 0.0027\n",
      "Epoch 38/50\n",
      "58/58 [==============================] - 10s 169ms/step - loss: 0.0030\n",
      "Epoch 39/50\n",
      "58/58 [==============================] - 11s 182ms/step - loss: 0.0027\n",
      "Epoch 40/50\n",
      "58/58 [==============================] - 10s 170ms/step - loss: 0.0026\n",
      "Epoch 41/50\n",
      "58/58 [==============================] - 10s 170ms/step - loss: 0.0027\n",
      "Epoch 42/50\n",
      "58/58 [==============================] - 10s 176ms/step - loss: 0.0026\n",
      "Epoch 43/50\n",
      "58/58 [==============================] - 10s 180ms/step - loss: 0.0024\n",
      "Epoch 44/50\n",
      "58/58 [==============================] - 10s 176ms/step - loss: 0.0026\n",
      "Epoch 45/50\n",
      "58/58 [==============================] - 10s 176ms/step - loss: 0.0025\n",
      "Epoch 46/50\n",
      "58/58 [==============================] - 10s 166ms/step - loss: 0.0023\n",
      "Epoch 47/50\n",
      "58/58 [==============================] - 10s 173ms/step - loss: 0.0026\n",
      "Epoch 48/50\n",
      "58/58 [==============================] - 10s 174ms/step - loss: 0.0021\n",
      "Epoch 49/50\n",
      "58/58 [==============================] - 10s 168ms/step - loss: 0.0025\n",
      "Epoch 50/50\n",
      "58/58 [==============================] - 10s 177ms/step - loss: 0.0025\n"
     ]
    },
    {
     "data": {
      "text/plain": [
       "<keras.src.callbacks.History at 0x25ccda9d4d0>"
      ]
     },
     "execution_count": 23,
     "metadata": {},
     "output_type": "execute_result"
    }
   ],
   "source": [
    "model.fit(x_train,y_train,epochs=50)"
   ]
  },
  {
   "cell_type": "code",
   "execution_count": 24,
   "id": "157c6f3d",
   "metadata": {},
   "outputs": [
    {
     "name": "stderr",
     "output_type": "stream",
     "text": [
      "D:\\annaconda-python\\Lib\\site-packages\\keras\\src\\engine\\training.py:3103: UserWarning: You are saving your model as an HDF5 file via `model.save()`. This file format is considered legacy. We recommend using instead the native Keras format, e.g. `model.save('my_model.keras')`.\n",
      "  saving_api.save_model(\n"
     ]
    }
   ],
   "source": [
    "model.save('keras_model.h5')"
   ]
  },
  {
   "cell_type": "code",
   "execution_count": 25,
   "id": "d6ab873a",
   "metadata": {},
   "outputs": [],
   "source": [
    "past100=train_data.tail(100).values"
   ]
  },
  {
   "cell_type": "code",
   "execution_count": 26,
   "id": "2a5cef86",
   "metadata": {},
   "outputs": [
    {
     "data": {
      "text/plain": [
       "array([51.79000092, 51.31999969, 51.07500076, 51.15250015, 50.16749954,\n",
       "       52.63000107, 52.28749847, 52.9375    , 52.11999893, 50.71500015,\n",
       "       50.72499847, 50.18000031, 49.29499817, 46.43000031, 47.16500092,\n",
       "       47.72999954, 47.52000046, 47.25      , 45.77249908, 46.65000153,\n",
       "       45.69499969, 44.91500092, 44.74250031, 44.55749893, 44.34500122,\n",
       "       44.57500076, 43.76750183, 43.32500076, 44.90999985, 45.63499832,\n",
       "       46.30500031, 47.53749847, 48.14500046, 48.70249939, 48.54750061,\n",
       "       48.53749847, 48.18500137, 48.47249985, 49.61249924, 49.46749878,\n",
       "       49.86500168, 49.69499969, 49.64500046, 48.89250183, 49.95000076,\n",
       "       49.93500137, 49.47999954, 50.38750076, 50.68249893, 51.10250092,\n",
       "       51.05749893, 50.00500107, 50.31000137, 50.80749893, 50.4375    ,\n",
       "       50.82500076, 51.30250168, 51.125     , 50.83750153, 51.41500092,\n",
       "       50.64749908, 51.80500031, 52.20999908, 52.16749954, 51.75500107,\n",
       "       51.93500137, 52.41999817, 52.19499969, 53.25999832, 52.10749817,\n",
       "       51.00500107, 48.33499908, 49.25      , 49.75999832, 50.85749817,\n",
       "       50.24750137, 50.11999893, 52.24250031, 50.6875    , 50.43500137,\n",
       "       51.625     , 52.58750153, 52.59000015, 53.15999985, 53.11500168,\n",
       "       50.65999985, 51.62250137, 51.04000092, 51.38249969, 52.25249863,\n",
       "       52.18500137, 51.42499924, 52.29750061, 53.31999969, 53.31499863,\n",
       "       53.54249954, 54.17499924, 55.89749908, 55.77249908, 54.6875    ])"
      ]
     },
     "execution_count": 26,
     "metadata": {},
     "output_type": "execute_result"
    }
   ],
   "source": [
    "past100"
   ]
  },
  {
   "cell_type": "code",
   "execution_count": 27,
   "id": "e11bf836",
   "metadata": {},
   "outputs": [],
   "source": [
    "test_data_array = test_data.values.reshape(-1, 1)\n",
    "test_data_array\n",
    "past100 = past100.reshape(-1, 1)"
   ]
  },
  {
   "cell_type": "code",
   "execution_count": 28,
   "id": "4bcc8a0f",
   "metadata": {},
   "outputs": [
    {
     "data": {
      "text/plain": [
       "(931, 1)"
      ]
     },
     "execution_count": 28,
     "metadata": {},
     "output_type": "execute_result"
    }
   ],
   "source": [
    "newtest_data_array = np.concatenate((test_data_array, past100))\n",
    "newtest_data_array.shape"
   ]
  },
  {
   "cell_type": "code",
   "execution_count": 29,
   "id": "fbcb4b06",
   "metadata": {},
   "outputs": [],
   "source": [
    "final_test_data = scaler.fit_transform(newtest_data_array)\n",
    "final_test_data_list = final_test_data.tolist()"
   ]
  },
  {
   "cell_type": "code",
   "execution_count": 30,
   "id": "b6fca9f2",
   "metadata": {},
   "outputs": [],
   "source": [
    "x_test = []\n",
    "y_test = []\n",
    "i=0"
   ]
  },
  {
   "cell_type": "code",
   "execution_count": 31,
   "id": "21619093",
   "metadata": {},
   "outputs": [],
   "source": [
    "for i in range(0, final_test_data.shape[0] - 100):\n",
    "    x_test.append(final_test_data_list[i:i + 100])\n",
    "    y_test.append(final_test_data_list[i + 100][0])"
   ]
  },
  {
   "cell_type": "code",
   "execution_count": 32,
   "id": "b67aebbc",
   "metadata": {},
   "outputs": [
    {
     "data": {
      "text/plain": [
       "(831,)"
      ]
     },
     "execution_count": 32,
     "metadata": {},
     "output_type": "execute_result"
    }
   ],
   "source": [
    "x_test = np.array(x_test)\n",
    "y_test = np.array(y_test)\n",
    "y_test.shape"
   ]
  },
  {
   "cell_type": "code",
   "execution_count": 33,
   "id": "d1ddbd30",
   "metadata": {},
   "outputs": [
    {
     "name": "stdout",
     "output_type": "stream",
     "text": [
      "26/26 [==============================] - 2s 53ms/step\n"
     ]
    }
   ],
   "source": [
    "y_predict=model.predict(x_test)"
   ]
  },
  {
   "cell_type": "code",
   "execution_count": 34,
   "id": "3700fec8",
   "metadata": {},
   "outputs": [
    {
     "data": {
      "text/plain": [
       "(831, 1)"
      ]
     },
     "execution_count": 34,
     "metadata": {},
     "output_type": "execute_result"
    }
   ],
   "source": [
    "y_predict.shape"
   ]
  },
  {
   "cell_type": "code",
   "execution_count": 56,
   "id": "02175251",
   "metadata": {},
   "outputs": [],
   "source": [
    "scale_value=1/scaler.scale_[0]\n",
    "y_predict=y_predict * scale_value\n",
    "y_test=y_test * scale_value"
   ]
  },
  {
   "cell_type": "code",
   "execution_count": 64,
   "id": "b1295381",
   "metadata": {},
   "outputs": [
    {
     "data": {
      "image/png": "[encoded data removed]",
      "text/plain": [
       "<Figure size 1200x600 with 1 Axes>"
      ]
     },
     "metadata": {},
     "output_type": "display_data"
    }
   ],
   "source": [
    "plt.figure(figsize=(12,6))\n",
    "plt.plot(y_test,'b',label='original price')\n",
    "plt.plot(y_predict,'r',label='predicted price')\n",
    "plt.xlabel('Time')\n",
    "plt.ylabel('Price')\n",
    "plt.legend()\n",
    "plt.show()"
   ]
  },
  {
   "cell_type": "code",
   "execution_count": null,
   "id": "9c29fe72",
   "metadata": {},
   "outputs": [],
   "source": []
  }
 ],
 "metadata": {
  "kernelspec": {
   "display_name": "Python 3 (ipykernel)",
   "language": "python",
   "name": "python3"
  },
  "language_info": {
   "codemirror_mode": {
    "name": "ipython",
    "version": 3
   },
   "file_extension": ".py",
   "mimetype": "text/x-python",
   "name": "python",
   "nbconvert_exporter": "python",
   "pygments_lexer": "ipython3",
   "version": "3.11.5"
  }
 },
 "nbformat": 4,
 "nbformat_minor": 5
}
